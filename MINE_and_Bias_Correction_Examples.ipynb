{
 "cells": [
  {
   "cell_type": "code",
   "execution_count": 1,
   "id": "66d39a87",
   "metadata": {},
   "outputs": [],
   "source": [
    "import numpy as np\n",
    "from bias_correction import bias_corrected_mine\n",
    "# MINE-only imports:\n",
    "from models import *\n",
    "import torch.optim as optim\n",
    "import matplotlib.pyplot as plt"
   ]
  },
  {
   "cell_type": "markdown",
   "id": "9b36a676",
   "metadata": {},
   "source": [
    "# Import Data"
   ]
  },
  {
   "cell_type": "code",
   "execution_count": 2,
   "id": "096e2f72",
   "metadata": {},
   "outputs": [],
   "source": [
    "base = '/bigstore/GeneralStorage/Evan/Calcium_Feature_Extraction/Models/MasterLibrary/NoisyCa_Gaussian_Genes_Volume_Norm_MI_090520/Learning_Rate_Test/'\n",
    "data = np.load(base+'/full_data.npy')"
   ]
  },
  {
   "cell_type": "code",
   "execution_count": 3,
   "id": "46c12ed2",
   "metadata": {},
   "outputs": [
    {
     "data": {
      "text/plain": [
       "('Full data:',\n",
       " (5128, 397),\n",
       " 'Gene data:',\n",
       " (5128, 83),\n",
       " 'Calcium data:',\n",
       " (5128, 314))"
      ]
     },
     "execution_count": 3,
     "metadata": {},
     "output_type": "execute_result"
    }
   ],
   "source": [
    "genes = data[:,:83]\n",
    "calcium = data[:,83:]\n",
    "'Full data:', data.shape, 'Gene data:', genes.shape, 'Calcium data:', calcium.shape"
   ]
  },
  {
   "cell_type": "markdown",
   "id": "a967d3df",
   "metadata": {},
   "source": [
    "# Bias-Corrected MINE Example"
   ]
  },
  {
   "cell_type": "code",
   "execution_count": 10,
   "id": "c17206dc",
   "metadata": {},
   "outputs": [],
   "source": [
    "joint_res = bias_corrected_mine().train(genes, calcium, min_iters=1e5, max_iters=4e5, \n",
    "                                        step_size=2e4, hidden_size=600, learn_rate=3e-4) \n",
    "    \n",
    "init1 = np.nanpercentile(joint_res['raw_observed_mi_trajectories'], 75)  # usually %ile initialization works best\n",
    "ubmine = bias_corrected_mine(mi_init1=init1)\n",
    "ubmine.mi_init2 = init1-0.0001  # default behavior is mi_init1/1.5 just to try a range of inits\n",
    "ans = (ubmine.refit(joint_res['raw_observed_mi_trajectories'], dynamic_start=True)/np.log(2))"
   ]
  },
  {
   "cell_type": "code",
   "execution_count": 11,
   "id": "db17ee85",
   "metadata": {},
   "outputs": [
    {
     "data": {
      "text/plain": [
       "array([1.72594403, 2.07329545, 2.25154215, 2.8738426 ])"
      ]
     },
     "execution_count": 11,
     "metadata": {},
     "output_type": "execute_result"
    }
   ],
   "source": [
    "ans  # ans[-1] is the final result with fast convergence, falls within 2.5+-0.4"
   ]
  },
  {
   "cell_type": "markdown",
   "id": "2fb0387b",
   "metadata": {},
   "source": [
    "# Raw MINE Example"
   ]
  },
  {
   "cell_type": "code",
   "execution_count": 5,
   "id": "eb9a091d",
   "metadata": {},
   "outputs": [],
   "source": [
    "mine = Mine(input_size=83+314, hidden_size=600).cuda()\n",
    "mine_net_optim_joint = optim.Adam(mine.parameters(), lr=3e-4)\n",
    "joint_res = train(data,mine,mine_net_optim_joint, iter_num=int(1e5), n_genes=83)\n",
    "joint_res_ma = ma(joint_res, 5000)/np.log(2)  # moving average is used in the paper to correct gradient bias"
   ]
  },
  {
   "cell_type": "code",
   "execution_count": 26,
   "id": "02b6426c",
   "metadata": {},
   "outputs": [
    {
     "data": {
      "text/plain": [
       "3.0375345"
      ]
     },
     "execution_count": 26,
     "metadata": {},
     "output_type": "execute_result"
    }
   ],
   "source": [
    "np.mean(joint_res_ma[-5000:])  # a little bit larger without bias correction"
   ]
  }
 ],
 "metadata": {
  "kernelspec": {
   "display_name": "Python [conda env:pytorch_gpu]",
   "language": "python",
   "name": "conda-env-pytorch_gpu-py"
  },
  "language_info": {
   "codemirror_mode": {
    "name": "ipython",
    "version": 3
   },
   "file_extension": ".py",
   "mimetype": "text/x-python",
   "name": "python",
   "nbconvert_exporter": "python",
   "pygments_lexer": "ipython3",
   "version": "3.7.10"
  }
 },
 "nbformat": 4,
 "nbformat_minor": 5
}
